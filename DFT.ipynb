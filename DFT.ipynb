{
  "nbformat": 4,
  "nbformat_minor": 0,
  "metadata": {
    "colab": {
      "provenance": [],
      "machine_shape": "hm",
      "gpuType": "A100",
      "authorship_tag": "ABX9TyMSWdkB0AKh7I5IVlCHEQe8",
      "include_colab_link": true
    },
    "kernelspec": {
      "name": "python3",
      "display_name": "Python 3"
    },
    "language_info": {
      "name": "python"
    },
    "accelerator": "GPU"
  },
  "cells": [
    {
      "cell_type": "markdown",
      "metadata": {
        "id": "view-in-github",
        "colab_type": "text"
      },
      "source": [
        "<a href=\"https://colab.research.google.com/github/kchen1024/Render-Path-Investigation/blob/main/DFT.ipynb\" target=\"_parent\"><img src=\"https://colab.research.google.com/assets/colab-badge.svg\" alt=\"Open In Colab\"/></a>"
      ]
    },
    {
      "cell_type": "code",
      "execution_count": 2,
      "metadata": {
        "colab": {
          "base_uri": "https://localhost:8080/"
        },
        "id": "g1COzXl0x4Ut",
        "outputId": "aaec5be0-043f-43a1-caf4-7f697f4661d9"
      },
      "outputs": [
        {
          "output_type": "stream",
          "name": "stdout",
          "text": [
            "fatal: destination path 'DFT' already exists and is not an empty directory.\n"
          ]
        }
      ],
      "source": [
        "!git clone https://github.com/CS-GangXu/DFT.git"
      ]
    },
    {
      "cell_type": "code",
      "source": [
        "%cd DFT"
      ],
      "metadata": {
        "colab": {
          "base_uri": "https://localhost:8080/"
        },
        "id": "dqGkD2fP9e3z",
        "outputId": "c2fcfbe6-1d7e-479e-8683-385adad7b11d"
      },
      "execution_count": 3,
      "outputs": [
        {
          "output_type": "stream",
          "name": "stdout",
          "text": [
            "/content/DFT\n"
          ]
        }
      ]
    },
    {
      "cell_type": "code",
      "source": [
        "!python inference.py"
      ],
      "metadata": {
        "colab": {
          "base_uri": "https://localhost:8080/"
        },
        "id": "n7FM3nLs94is",
        "outputId": "86cc3386-990e-42eb-c138-964fcec69447"
      },
      "execution_count": 4,
      "outputs": [
        {
          "output_type": "stream",
          "name": "stdout",
          "text": [
            "Model loaded successfully!\n",
            "Using GPU for inference\n",
            "Found 5 images to process\n",
            "\n",
            "================================================================================\n",
            "PROCESSING IMAGES\n",
            "================================================================================\n",
            "[1/5] Processing: 001\n",
            "  GPU Inference: 117.347 ms\n",
            "  Total Processing: 8830.915 ms\n",
            "  Image Size: 2160x3840\n",
            "  Saved to: ./output/001.png\n",
            "------------------------------------------------------------\n",
            "[2/5] Processing: 002\n",
            "  GPU Inference: 117.864 ms\n",
            "  Total Processing: 2813.725 ms\n",
            "  Image Size: 2160x3840\n",
            "  Saved to: ./output/002.png\n",
            "------------------------------------------------------------\n",
            "[3/5] Processing: 003\n",
            "  GPU Inference: 117.458 ms\n",
            "  Total Processing: 2323.555 ms\n",
            "  Image Size: 2160x3840\n",
            "  Saved to: ./output/003.png\n",
            "------------------------------------------------------------\n",
            "[4/5] Processing: 004\n",
            "  GPU Inference: 117.226 ms\n",
            "  Total Processing: 2771.068 ms\n",
            "  Image Size: 2160x3840\n",
            "  Saved to: ./output/004.png\n",
            "------------------------------------------------------------\n",
            "[5/5] Processing: 005\n",
            "  GPU Inference: 117.346 ms\n",
            "  Total Processing: 2847.322 ms\n",
            "  Image Size: 2160x3840\n",
            "  Saved to: ./output/005.png\n",
            "------------------------------------------------------------\n",
            "\n",
            "================================================================================\n",
            "INFERENCE TIME STATISTICS\n",
            "================================================================================\n",
            "Total images processed: 5\n",
            "Device: GPU\n",
            "\n",
            "GPU Inference Time Statistics:\n",
            "  Average: 117.448 ms\n",
            "  Minimum: 117.226 ms\n",
            "  Maximum: 117.864 ms\n",
            "  Std Dev: 0.220 ms\n",
            "\n",
            "Total Processing Time Statistics:\n",
            "  Average per image: 3917.317 ms\n",
            "  Total inference time: 0.587 seconds\n",
            "  Total processing time: 19.587 seconds\n",
            "\n",
            "Performance Metrics:\n",
            "  Inference Throughput: 8.51 FPS\n",
            "  Overall Throughput: 0.26 FPS\n",
            "\n",
            "Time Breakdown:\n",
            "  Pure Inference: 117.448 ms (3.0%)\n",
            "  Pre/Post Processing: 3799.869 ms (97.0%)\n",
            "================================================================================\n",
            "PROCESSING COMPLETED SUCCESSFULLY!\n",
            "All 5 images have been processed and saved to: ./output\n",
            "================================================================================\n"
          ]
        }
      ]
    }
  ]
}